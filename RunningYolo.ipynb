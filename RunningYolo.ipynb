{
 "cells": [
  {
   "cell_type": "code",
   "execution_count": 1,
   "id": "3209ee77-45ca-4fa0-a0d5-7901be32457b",
   "metadata": {},
   "outputs": [],
   "source": [
    "from ultralytics import YOLO\n",
    "import cv2"
   ]
  },
  {
   "cell_type": "code",
   "execution_count": null,
   "id": "8f372dce-3214-4f8e-97c6-b7cd12205f57",
   "metadata": {},
   "outputs": [],
   "source": [
    "model = YOLO('yolov8l.pt') #yolov8{model} -> n = nano, l = large"
   ]
  },
  {
   "cell_type": "code",
   "execution_count": null,
   "id": "cc80d73b-7573-47ee-833b-13044254c3de",
   "metadata": {},
   "outputs": [
    {
     "name": "stdout",
     "output_type": "stream",
     "text": [
      "\n",
      "image 1/1 C:\\Users\\Naveen\\Desktop\\Python\\Yolo\\Object detection Yolo\\Running Yolo\\Images\\1.png: 384x640 8 persons, 1 bus, 4 backpacks, 3 handbags, 1 skateboard, 2196.3ms\n",
      "Speed: 7.0ms preprocess, 2196.3ms inference, 57.3ms postprocess per image at shape (1, 3, 384, 640)\n"
     ]
    },
    {
     "data": {
      "text/plain": [
       "-1"
      ]
     },
     "execution_count": 3,
     "metadata": {},
     "output_type": "execute_result"
    }
   ],
   "source": [
    "results = model(\"Images/1.png\", show=True)  #passing image in model\n",
    "cv2.waitKey(0)  #display result image until we close"
   ]
  },
  {
   "cell_type": "code",
   "execution_count": null,
   "id": "1678c4d5-0a1c-45cf-aeb2-c3ea3015e9f6",
   "metadata": {},
   "outputs": [],
   "source": []
  }
 ],
 "metadata": {
  "kernelspec": {
   "display_name": "Python 3 (ipykernel)",
   "language": "python",
   "name": "python3"
  },
  "language_info": {
   "codemirror_mode": {
    "name": "ipython",
    "version": 3
   },
   "file_extension": ".py",
   "mimetype": "text/x-python",
   "name": "python",
   "nbconvert_exporter": "python",
   "pygments_lexer": "ipython3",
   "version": "3.12.6"
  }
 },
 "nbformat": 4,
 "nbformat_minor": 5
}
